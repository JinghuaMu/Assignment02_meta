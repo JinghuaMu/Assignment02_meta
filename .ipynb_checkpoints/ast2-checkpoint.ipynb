{
 "cells": [
  {
   "cell_type": "markdown",
   "id": "4b3785bf",
   "metadata": {},
   "source": [
    "估计海洋酸化的总体影响 效应大小的可变性 影响因素（生物学、方法学、出版）\n",
    "1. 合并文件   平均活性 mean sd N  metafor lnRR及其采样方差\n",
    "2.  rma.mv() 元分析均值+区间 异质性度量predict 平均估计值/置信区间/预测区间森林图 标记轴数量和研究\n",
    "3. 漏斗图 研究偏差 时间滞后图 年份变化\n",
    "4. 元回归 年份固定效应 逆抽样方差模型（抽屉） 偏差可能性  12.。。。\n",
    "5. github存储库 README "
   ]
  },
  {
   "cell_type": "markdown",
   "id": "32c6866d",
   "metadata": {
    "incorrectly_encoded_metadata": "tags=[] jp-MarkdownHeadingCollapsed=true"
   },
   "source": [
    "### 读取等人的研究原始数据并进行清洗"
   ]
  },
  {
   "cell_type": "code",
   "execution_count": 1,
   "id": "2ff77b99",
   "metadata": {},
   "outputs": [
    {
     "name": "stderr",
     "output_type": "stream",
     "text": [
      "Warning message:\n",
      "\"package 'tidyverse' was built under R version 4.2.1\"\n",
      "-- \u001b[1mAttaching packages\u001b[22m ------------------------------------------------------------------------------- tidyverse 1.3.2 --\n",
      "\u001b[32mv\u001b[39m \u001b[34mggplot2\u001b[39m 3.3.6     \u001b[32mv\u001b[39m \u001b[34mpurrr  \u001b[39m 0.3.4\n",
      "\u001b[32mv\u001b[39m \u001b[34mtibble \u001b[39m 3.1.8     \u001b[32mv\u001b[39m \u001b[34mdplyr  \u001b[39m 1.0.9\n",
      "\u001b[32mv\u001b[39m \u001b[34mtidyr  \u001b[39m 1.2.0     \u001b[32mv\u001b[39m \u001b[34mstringr\u001b[39m 1.4.1\n",
      "\u001b[32mv\u001b[39m \u001b[34mreadr  \u001b[39m 2.1.2     \u001b[32mv\u001b[39m \u001b[34mforcats\u001b[39m 0.5.2\n",
      "Warning message:\n",
      "\"package 'ggplot2' was built under R version 4.2.1\"\n",
      "Warning message:\n",
      "\"package 'forcats' was built under R version 4.2.1\"\n",
      "-- \u001b[1mConflicts\u001b[22m ---------------------------------------------------------------------------------- tidyverse_conflicts() --\n",
      "\u001b[31mx\u001b[39m \u001b[34mdplyr\u001b[39m::\u001b[32mfilter()\u001b[39m masks \u001b[34mstats\u001b[39m::filter()\n",
      "\u001b[31mx\u001b[39m \u001b[34mdplyr\u001b[39m::\u001b[32mlag()\u001b[39m    masks \u001b[34mstats\u001b[39m::lag()\n",
      "Warning message:\n",
      "\"package 'flextable' was built under R version 4.2.1\"\n",
      "\n",
      "Attaching package: 'flextable'\n",
      "\n",
      "\n",
      "The following object is masked from 'package:purrr':\n",
      "\n",
      "    compose\n",
      "\n",
      "\n"
     ]
    }
   ],
   "source": [
    "library(tidyverse)\n",
    "library(flextable)\n",
    "# p_load(bookdown, devtools, ggforce, flextable, latex2exp, png, magick, metafor, MASS, emmeans, R.rsp)\n",
    "# Install the orchaRd package \n",
    "## devtools::install_github(\"daniel1noble/orchaRd\", force = TRUE)\n",
    "# library(orchaRd)"
   ]
  },
  {
   "cell_type": "code",
   "execution_count": 2,
   "id": "c411d5ed",
   "metadata": {},
   "outputs": [
    {
     "name": "stderr",
     "output_type": "stream",
     "text": [
      "\u001b[1m\u001b[22mNew names:\n",
      "\u001b[36m*\u001b[39m `` -> `...1`\n"
     ]
    },
    {
     "data": {
      "text/html": [
       "<table class=\"dataframe\">\n",
       "<caption>A tibble: 5 × 8</caption>\n",
       "<thead>\n",
       "\t<tr><th scope=col>loc</th><th scope=col>species</th><th scope=col>treatment</th><th scope=col>animal_id</th><th scope=col>sl</th><th scope=col>size</th><th scope=col>activity</th><th scope=col>comment</th></tr>\n",
       "\t<tr><th scope=col>&lt;chr&gt;</th><th scope=col>&lt;chr&gt;</th><th scope=col>&lt;chr&gt;</th><th scope=col>&lt;dbl&gt;</th><th scope=col>&lt;dbl&gt;</th><th scope=col>&lt;chr&gt;</th><th scope=col>&lt;dbl&gt;</th><th scope=col>&lt;chr&gt;</th></tr>\n",
       "</thead>\n",
       "<tbody>\n",
       "\t<tr><td>LIRS 2014</td><td>ambon</td><td>CO2</td><td>64</td><td>56.98794</td><td>big</td><td> 8.147368</td><td>27min means of sml+lrg dur, from All Lizard activity data for JJ v2_7 Jun 2017.xlsx</td></tr>\n",
       "\t<tr><td>LIRS 2014</td><td>ambon</td><td>CO2</td><td>65</td><td>38.23816</td><td>big</td><td>10.505263</td><td>27min means of sml+lrg dur, from All Lizard activity data for JJ v2_7 Jun 2017.xlsx</td></tr>\n",
       "\t<tr><td>LIRS 2014</td><td>ambon</td><td>CO2</td><td>67</td><td>39.30947</td><td>big</td><td> 6.513043</td><td>27min means of sml+lrg dur, from All Lizard activity data for JJ v2_7 Jun 2017.xlsx</td></tr>\n",
       "\t<tr><td>LIRS 2014</td><td>ambon</td><td>CO2</td><td>68</td><td>36.07155</td><td>big</td><td>27.836364</td><td>27min means of sml+lrg dur, from All Lizard activity data for JJ v2_7 Jun 2017.xlsx</td></tr>\n",
       "\t<tr><td>LIRS 2014</td><td>lemon</td><td>CO2</td><td>74</td><td>36.43578</td><td>big</td><td>36.682609</td><td>27min means of sml+lrg dur, from All Lizard activity data for JJ v2_7 Jun 2017.xlsx</td></tr>\n",
       "</tbody>\n",
       "</table>\n"
      ],
      "text/latex": [
       "A tibble: 5 × 8\n",
       "\\begin{tabular}{llllllll}\n",
       " loc & species & treatment & animal\\_id & sl & size & activity & comment\\\\\n",
       " <chr> & <chr> & <chr> & <dbl> & <dbl> & <chr> & <dbl> & <chr>\\\\\n",
       "\\hline\n",
       "\t LIRS 2014 & ambon & CO2 & 64 & 56.98794 & big &  8.147368 & 27min means of sml+lrg dur, from All Lizard activity data for JJ v2\\_7 Jun 2017.xlsx\\\\\n",
       "\t LIRS 2014 & ambon & CO2 & 65 & 38.23816 & big & 10.505263 & 27min means of sml+lrg dur, from All Lizard activity data for JJ v2\\_7 Jun 2017.xlsx\\\\\n",
       "\t LIRS 2014 & ambon & CO2 & 67 & 39.30947 & big &  6.513043 & 27min means of sml+lrg dur, from All Lizard activity data for JJ v2\\_7 Jun 2017.xlsx\\\\\n",
       "\t LIRS 2014 & ambon & CO2 & 68 & 36.07155 & big & 27.836364 & 27min means of sml+lrg dur, from All Lizard activity data for JJ v2\\_7 Jun 2017.xlsx\\\\\n",
       "\t LIRS 2014 & lemon & CO2 & 74 & 36.43578 & big & 36.682609 & 27min means of sml+lrg dur, from All Lizard activity data for JJ v2\\_7 Jun 2017.xlsx\\\\\n",
       "\\end{tabular}\n"
      ],
      "text/markdown": [
       "\n",
       "A tibble: 5 × 8\n",
       "\n",
       "| loc &lt;chr&gt; | species &lt;chr&gt; | treatment &lt;chr&gt; | animal_id &lt;dbl&gt; | sl &lt;dbl&gt; | size &lt;chr&gt; | activity &lt;dbl&gt; | comment &lt;chr&gt; |\n",
       "|---|---|---|---|---|---|---|---|\n",
       "| LIRS 2014 | ambon | CO2 | 64 | 56.98794 | big |  8.147368 | 27min means of sml+lrg dur, from All Lizard activity data for JJ v2_7 Jun 2017.xlsx |\n",
       "| LIRS 2014 | ambon | CO2 | 65 | 38.23816 | big | 10.505263 | 27min means of sml+lrg dur, from All Lizard activity data for JJ v2_7 Jun 2017.xlsx |\n",
       "| LIRS 2014 | ambon | CO2 | 67 | 39.30947 | big |  6.513043 | 27min means of sml+lrg dur, from All Lizard activity data for JJ v2_7 Jun 2017.xlsx |\n",
       "| LIRS 2014 | ambon | CO2 | 68 | 36.07155 | big | 27.836364 | 27min means of sml+lrg dur, from All Lizard activity data for JJ v2_7 Jun 2017.xlsx |\n",
       "| LIRS 2014 | lemon | CO2 | 74 | 36.43578 | big | 36.682609 | 27min means of sml+lrg dur, from All Lizard activity data for JJ v2_7 Jun 2017.xlsx |\n",
       "\n"
      ],
      "text/plain": [
       "  loc       species treatment animal_id sl       size activity \n",
       "1 LIRS 2014 ambon   CO2       64        56.98794 big   8.147368\n",
       "2 LIRS 2014 ambon   CO2       65        38.23816 big  10.505263\n",
       "3 LIRS 2014 ambon   CO2       67        39.30947 big   6.513043\n",
       "4 LIRS 2014 ambon   CO2       68        36.07155 big  27.836364\n",
       "5 LIRS 2014 lemon   CO2       74        36.43578 big  36.682609\n",
       "  comment                                                                            \n",
       "1 27min means of sml+lrg dur, from All Lizard activity data for JJ v2_7 Jun 2017.xlsx\n",
       "2 27min means of sml+lrg dur, from All Lizard activity data for JJ v2_7 Jun 2017.xlsx\n",
       "3 27min means of sml+lrg dur, from All Lizard activity data for JJ v2_7 Jun 2017.xlsx\n",
       "4 27min means of sml+lrg dur, from All Lizard activity data for JJ v2_7 Jun 2017.xlsx\n",
       "5 27min means of sml+lrg dur, from All Lizard activity data for JJ v2_7 Jun 2017.xlsx"
      ]
     },
     "metadata": {},
     "output_type": "display_data"
    }
   ],
   "source": [
    "current_res <- read_csv(\"OA_activitydat_20190302_BIOL3207.csv\",name_repair = \"unique\",show_col_types = FALSE) %>%\n",
    "                     select(-1)\n",
    "head(current_res,5)"
   ]
  },
  {
   "cell_type": "code",
   "execution_count": 3,
   "id": "7c84d3ec",
   "metadata": {},
   "outputs": [
    {
     "data": {
      "text/plain": [
       "        loc           species      treatment     animal_id            sl       \n",
       " AIMS 2015: 66   acantho  :196   CO2    :283   Min.   :   1.0   Min.   : 7.50  \n",
       " LIRS 2014:195   ambon    : 44   control:306   1st Qu.: 125.0   1st Qu.:11.50  \n",
       " LIRS 2016:328   chromis  : 34                 Median : 227.0   Median :24.00  \n",
       "                 humbug   :142                 Mean   : 281.7   Mean   :26.16  \n",
       "                 lemon    : 51                 3rd Qu.: 320.0   3rd Qu.:35.25  \n",
       "                 whitedams:122                 Max.   :9696.0   Max.   :92.53  \n",
       "                                               NA's   :32                      \n",
       "    size        activity        comment         \n",
       " big  :394   Min.   : 1.025   Length:589        \n",
       " small:195   1st Qu.:18.622   Class :character  \n",
       "             Median :27.720   Mode  :character  \n",
       "             Mean   :28.143                     \n",
       "             3rd Qu.:37.476                     \n",
       "             Max.   :57.573                     \n",
       "             NA's   :7                          "
      ]
     },
     "metadata": {},
     "output_type": "display_data"
    }
   ],
   "source": [
    "current_res <- current_res %>% mutate(loc = as.factor(loc),species = as.factor(species),\n",
    "                                         size = as.factor(size),treatment = as.factor(treatment))\n",
    "summary(current_res)"
   ]
  },
  {
   "cell_type": "code",
   "execution_count": 4,
   "id": "e300c2c8",
   "metadata": {},
   "outputs": [
    {
     "name": "stderr",
     "output_type": "stream",
     "text": [
      "Your code contains a unicode char which cannot be displayed in your\n",
      "current locale and R will silently convert it to an escaped form when the\n",
      "R kernel executes this code. This can lead to subtle errors if you use\n",
      "such chars to do comparisons. For more information, please see\n",
      "https://github.com/IRkernel/repr/wiki/Problems-with-unicode-on-windows"
     ]
    },
    {
     "data": {
      "text/html": [
       "<table class=\"dataframe\">\n",
       "<caption>A tibble: 1 × 8</caption>\n",
       "<thead>\n",
       "\t<tr><th scope=col>loc</th><th scope=col>species</th><th scope=col>treatment</th><th scope=col>animal_id</th><th scope=col>sl</th><th scope=col>size</th><th scope=col>activity</th><th scope=col>comment</th></tr>\n",
       "\t<tr><th scope=col>&lt;int&gt;</th><th scope=col>&lt;int&gt;</th><th scope=col>&lt;int&gt;</th><th scope=col>&lt;int&gt;</th><th scope=col>&lt;int&gt;</th><th scope=col>&lt;int&gt;</th><th scope=col>&lt;int&gt;</th><th scope=col>&lt;int&gt;</th></tr>\n",
       "</thead>\n",
       "<tbody>\n",
       "\t<tr><td>0</td><td>0</td><td>0</td><td>32</td><td>0</td><td>0</td><td>7</td><td>0</td></tr>\n",
       "</tbody>\n",
       "</table>\n"
      ],
      "text/latex": [
       "A tibble: 1 × 8\n",
       "\\begin{tabular}{llllllll}\n",
       " loc & species & treatment & animal\\_id & sl & size & activity & comment\\\\\n",
       " <int> & <int> & <int> & <int> & <int> & <int> & <int> & <int>\\\\\n",
       "\\hline\n",
       "\t 0 & 0 & 0 & 32 & 0 & 0 & 7 & 0\\\\\n",
       "\\end{tabular}\n"
      ],
      "text/markdown": [
       "\n",
       "A tibble: 1 × 8\n",
       "\n",
       "| loc &lt;int&gt; | species &lt;int&gt; | treatment &lt;int&gt; | animal_id &lt;int&gt; | sl &lt;int&gt; | size &lt;int&gt; | activity &lt;int&gt; | comment &lt;int&gt; |\n",
       "|---|---|---|---|---|---|---|---|\n",
       "| 0 | 0 | 0 | 32 | 0 | 0 | 7 | 0 |\n",
       "\n"
      ],
      "text/plain": [
       "  loc species treatment animal_id sl size activity comment\n",
       "1 0   0       0         32        0  0    7        0      "
      ]
     },
     "metadata": {},
     "output_type": "display_data"
    },
    {
     "data": {
      "text/plain": [
       "           loc\n",
       "species     AIMS 2015 LIRS 2014 LIRS 2016\n",
       "  acantho           0         2        18\n",
       "  ambon             0         1         0\n",
       "  chromis           0         0         0\n",
       "  humbug            0         2        13\n",
       "  lemon             0         2         0\n",
       "  whitedams         0         0         1"
      ]
     },
     "metadata": {},
     "output_type": "display_data"
    }
   ],
   "source": [
    "#检查NA在数据集中的分布\n",
    "current_res %>% summarise(across(everything(), ~sum(is.na(.))))\n",
    "#检查NA值的数量是否影响数据可用性\n",
    "table(current_res[!complete.cases(current_res),] %>% select(species,loc))\n",
    "#删除缺失值\n",
    "current_res <- current_res %>% drop_na()"
   ]
  },
  {
   "cell_type": "markdown",
   "id": "7c4f835f",
   "metadata": {
    "incorrectly_encoded_metadata": "tags=[] jp-MarkdownHeadingCollapsed=true"
   },
   "source": [
    "### 生成统计数据并合并到"
   ]
  },
  {
   "cell_type": "code",
   "execution_count": 5,
   "id": "a3cfc883",
   "metadata": {},
   "outputs": [
    {
     "name": "stdout",
     "output_type": "stream",
     "text": [
      "Rows: 824\n",
      "Columns: 22\n",
      "$ Study                \u001b[3m\u001b[90m<chr>\u001b[39m\u001b[23m \"a1\", \"a1\", \"a1\", \"a1\", \"a1\", \"a1\", \"a1\", \"a2\", \"~\n",
      "$ Authors              \u001b[3m\u001b[90m<chr>\u001b[39m\u001b[23m \"Munday et al\", \"Munday et al\", \"Munday et al\", \"~\n",
      "$ `Year (online)`      \u001b[3m\u001b[90m<dbl>\u001b[39m\u001b[23m 2009, 2009, 2009, 2009, 2009, 2009, 2009, 2009, 2~\n",
      "$ `Year (print)`       \u001b[3m\u001b[90m<dbl>\u001b[39m\u001b[23m 2009, 2009, 2009, 2009, 2009, 2009, 2009, 2010, 2~\n",
      "$ Title                \u001b[3m\u001b[90m<chr>\u001b[39m\u001b[23m \"Ocean acidification impairs olfactory discrimina~\n",
      "$ Journal              \u001b[3m\u001b[90m<chr>\u001b[39m\u001b[23m \"PNAS\", \"PNAS\", \"PNAS\", \"PNAS\", \"PNAS\", \"PNAS\", \"~\n",
      "$ `Pub year IF`        \u001b[3m\u001b[90m<chr>\u001b[39m\u001b[23m \"9.432\", \"9.432\", \"9.432\", \"9.432\", \"9.432\", \"9.4~\n",
      "$ `2017 IF`            \u001b[3m\u001b[90m<chr>\u001b[39m\u001b[23m \"9.504\", \"9.504\", \"9.504\", \"9.504\", \"9.504\", \"9.5~\n",
      "$ `Average n`          \u001b[3m\u001b[90m<dbl>\u001b[39m\u001b[23m 27, 27, 27, 27, 27, 27, 27, 15, 15, 15, 15, 15, 1~\n",
      "$ `Effect type`        \u001b[3m\u001b[90m<chr>\u001b[39m\u001b[23m \"Strong\", \"Strong\", \"Strong\", \"Strong\", \"Strong\",~\n",
      "$ Species              \u001b[3m\u001b[90m<chr>\u001b[39m\u001b[23m \"Amphiprion percula\", \"Amphiprion percula\", \"Amph~\n",
      "$ `Climate (FishBase)` \u001b[3m\u001b[90m<chr>\u001b[39m\u001b[23m \"Trop\", \"Trop\", \"Trop\", \"Trop\", \"Trop\", \"Trop\", \"~\n",
      "$ `Env cue/stimulus?`  \u001b[3m\u001b[90m<chr>\u001b[39m\u001b[23m \"Yes\", \"Yes\", \"Yes\", \"Yes\", \"Yes\", \"Yes\", \"Yes\", ~\n",
      "$ `Cue/stimulus type`  \u001b[3m\u001b[90m<chr>\u001b[39m\u001b[23m \"Habitat\", \"Habitat\", \"Habitat\", \"Habitat\", \"Kin\"~\n",
      "$ `Behavioural metric` \u001b[3m\u001b[90m<chr>\u001b[39m\u001b[23m \"% time in Xanthostemon cue\", \"% time in Melaleuc~\n",
      "$ `Life stage`         \u001b[3m\u001b[90m<chr>\u001b[39m\u001b[23m \"Larvae\", \"Larvae\", \"Larvae\", \"Larvae\", \"Larvae\",~\n",
      "$ ctrl.n               \u001b[3m\u001b[90m<dbl>\u001b[39m\u001b[23m 26, 20, 20, 10, 30, 30, 30, 45, 45, 45, 45, 45, 4~\n",
      "$ ctrl.mean            \u001b[3m\u001b[90m<dbl>\u001b[39m\u001b[23m 94.1290, 0.7830, 46.3800, 98.8260, 0.9120, 90.876~\n",
      "$ ctrl.sd              \u001b[3m\u001b[90m<dbl>\u001b[39m\u001b[23m 2.9931, 3.5017, 14.0023, 1.8563, 2.9960, 3.9984, ~\n",
      "$ oa.n                 \u001b[3m\u001b[90m<dbl>\u001b[39m\u001b[23m 46, 46, 46, 16, 20, 20, 20, 45, 45, 45, 45, 45, 4~\n",
      "$ oa.mean              \u001b[3m\u001b[90m<dbl>\u001b[39m\u001b[23m 72.7890, 83.5620, 71.4290, 88.2580, 99.8180, 99.8~\n",
      "$ oa.sd                \u001b[3m\u001b[90m<dbl>\u001b[39m\u001b[23m 13.2730, 10.6211, 13.2730, 7.0440, 0.0045, 0.0045~\n"
     ]
    }
   ],
   "source": [
    "append_path = \"ocean_meta_data.csv\"\n",
    "existing_res <- read_csv(append_path,show_col_types = FALSE)\n",
    "glimpse(existing_res)"
   ]
  },
  {
   "cell_type": "code",
   "execution_count": 6,
   "id": "8458be4e",
   "metadata": {},
   "outputs": [
    {
     "name": "stderr",
     "output_type": "stream",
     "text": [
      "Your code contains a unicode char which cannot be displayed in your\n",
      "current locale and R will silently convert it to an escaped form when the\n",
      "R kernel executes this code. This can lead to subtle errors if you use\n",
      "such chars to do comparisons. For more information, please see\n",
      "https://github.com/IRkernel/repr/wiki/Problems-with-unicode-on-windows"
     ]
    }
   ],
   "source": [
    "#观察到列名并不统一\n",
    "levels(current_res$treatment)[levels(current_res$treatment)==\"control\"] <- \"ctrl\"\n",
    "levels(current_res$treatment)[levels(current_res$treatment)==\"CO2\"] <- \"oa\" \n",
    "#以物种和treatment为组统计其acticity的均值和sd并转化为以物种为行的长表\n",
    "current_sta <- current_res %>% group_by(treatment,species) %>% summarise(mean = mean(activity),sd = sd(activity),n = n(),.groups = \"drop\") %>% \n",
    "       pivot_wider(names_from = treatment,names_glue = \"{treatment}.{.value}\",values_from = c(mean,n,sd))"
   ]
  },
  {
   "cell_type": "code",
   "execution_count": 7,
   "id": "8bfd56bf",
   "metadata": {},
   "outputs": [
    {
     "name": "stderr",
     "output_type": "stream",
     "text": [
      "Your code contains a unicode char which cannot be displayed in your\n",
      "current locale and R will silently convert it to an escaped form when the\n",
      "R kernel executes this code. This can lead to subtle errors if you use\n",
      "such chars to do comparisons. For more information, please see\n",
      "https://github.com/IRkernel/repr/wiki/Problems-with-unicode-on-windows"
     ]
    },
    {
     "data": {
      "text/html": [
       "<style>\n",
       ".list-inline {list-style: none; margin:0; padding: 0}\n",
       ".list-inline>li {display: inline-block}\n",
       ".list-inline>li:not(:last-child)::after {content: \"\\00b7\"; padding: 0 .5ex}\n",
       "</style>\n",
       "<ol class=list-inline><li>'Study'</li><li>'Authors'</li><li>'Year (online)'</li><li>'Year (print)'</li><li>'Title'</li><li>'Journal'</li><li>'Pub year IF'</li><li>'2017 IF'</li><li>'Average n'</li><li>'Effect type'</li><li>'Climate (FishBase)'</li><li>'Env cue/stimulus?'</li><li>'Cue/stimulus type'</li><li>'Behavioural metric'</li><li>'Life stage'</li><li>'species'</li><li>'oa.mean'</li><li>'ctrl.mean'</li><li>'oa.n'</li><li>'ctrl.n'</li><li>'oa.sd'</li><li>'ctrl.sd'</li></ol>\n"
      ],
      "text/latex": [
       "\\begin{enumerate*}\n",
       "\\item 'Study'\n",
       "\\item 'Authors'\n",
       "\\item 'Year (online)'\n",
       "\\item 'Year (print)'\n",
       "\\item 'Title'\n",
       "\\item 'Journal'\n",
       "\\item 'Pub year IF'\n",
       "\\item '2017 IF'\n",
       "\\item 'Average n'\n",
       "\\item 'Effect type'\n",
       "\\item 'Climate (FishBase)'\n",
       "\\item 'Env cue/stimulus?'\n",
       "\\item 'Cue/stimulus type'\n",
       "\\item 'Behavioural metric'\n",
       "\\item 'Life stage'\n",
       "\\item 'species'\n",
       "\\item 'oa.mean'\n",
       "\\item 'ctrl.mean'\n",
       "\\item 'oa.n'\n",
       "\\item 'ctrl.n'\n",
       "\\item 'oa.sd'\n",
       "\\item 'ctrl.sd'\n",
       "\\end{enumerate*}\n"
      ],
      "text/markdown": [
       "1. 'Study'\n",
       "2. 'Authors'\n",
       "3. 'Year (online)'\n",
       "4. 'Year (print)'\n",
       "5. 'Title'\n",
       "6. 'Journal'\n",
       "7. 'Pub year IF'\n",
       "8. '2017 IF'\n",
       "9. 'Average n'\n",
       "10. 'Effect type'\n",
       "11. 'Climate (FishBase)'\n",
       "12. 'Env cue/stimulus?'\n",
       "13. 'Cue/stimulus type'\n",
       "14. 'Behavioural metric'\n",
       "15. 'Life stage'\n",
       "16. 'species'\n",
       "17. 'oa.mean'\n",
       "18. 'ctrl.mean'\n",
       "19. 'oa.n'\n",
       "20. 'ctrl.n'\n",
       "21. 'oa.sd'\n",
       "22. 'ctrl.sd'\n",
       "\n",
       "\n"
      ],
      "text/plain": [
       " [1] \"Study\"              \"Authors\"            \"Year (online)\"     \n",
       " [4] \"Year (print)\"       \"Title\"              \"Journal\"           \n",
       " [7] \"Pub year IF\"        \"2017 IF\"            \"Average n\"         \n",
       "[10] \"Effect type\"        \"Climate (FishBase)\" \"Env cue/stimulus?\" \n",
       "[13] \"Cue/stimulus type\"  \"Behavioural metric\" \"Life stage\"        \n",
       "[16] \"species\"            \"oa.mean\"            \"ctrl.mean\"         \n",
       "[19] \"oa.n\"               \"ctrl.n\"             \"oa.sd\"             \n",
       "[22] \"ctrl.sd\"           "
      ]
     },
     "metadata": {},
     "output_type": "display_data"
    }
   ],
   "source": [
    "current_info <- read_csv(\"clark_paper_data.csv\",show_col_types = FALSE)\n",
    "append_info <- cbind(tibble(current_info),current_sta)\n",
    "colnames(append_info)\n",
    "#发现列的顺序和部分命名存在问题\n",
    "append_info <- append_info %>%rename(Species = species) %>% select(colnames(existing_res))"
   ]
  },
  {
   "cell_type": "code",
   "execution_count": 8,
   "id": "24aa372f",
   "metadata": {},
   "outputs": [],
   "source": [
    "\n",
    "# write_lines(\"\",file = append_path,append = TRUE)\n",
    "# write_csv(append_info, file = append_path, append = TRUE,col_names = FALSE)\n",
    "rm(list = ls())"
   ]
  },
  {
   "cell_type": "code",
   "execution_count": null,
   "id": "caf38fb4",
   "metadata": {},
   "outputs": [],
   "source": []
  },
  {
   "cell_type": "markdown",
   "id": "c06d0f2a",
   "metadata": {
    "incorrectly_encoded_metadata": "tags=[] jp-MarkdownHeadingCollapsed=true"
   },
   "source": [
    "### 生成lnRR和采样方差"
   ]
  },
  {
   "cell_type": "code",
   "execution_count": 9,
   "id": "df845449",
   "metadata": {},
   "outputs": [
    {
     "name": "stderr",
     "output_type": "stream",
     "text": [
      "Your code contains a unicode char which cannot be displayed in your\n",
      "current locale and R will silently convert it to an escaped form when the\n",
      "R kernel executes this code. This can lead to subtle errors if you use\n",
      "such chars to do comparisons. For more information, please see\n",
      "https://github.com/IRkernel/repr/wiki/Problems-with-unicode-on-windows\n",
      "Attaching package: 'janitor'\n",
      "\n",
      "\n",
      "The following objects are masked from 'package:stats':\n",
      "\n",
      "    chisq.test, fisher.test\n",
      "\n",
      "\n"
     ]
    },
    {
     "name": "stdout",
     "output_type": "stream",
     "text": [
      "Rows: 824\n",
      "Columns: 22\n",
      "$ study              \u001b[3m\u001b[90m<chr>\u001b[39m\u001b[23m \"a1\", \"a1\", \"a1\", \"a1\", \"a1\", \"a1\", \"a1\", \"a2\", \"a2~\n",
      "$ authors            \u001b[3m\u001b[90m<chr>\u001b[39m\u001b[23m \"Munday et al\", \"Munday et al\", \"Munday et al\", \"Mu~\n",
      "$ year_online        \u001b[3m\u001b[90m<dbl>\u001b[39m\u001b[23m 2009, 2009, 2009, 2009, 2009, 2009, 2009, 2009, 200~\n",
      "$ year_print         \u001b[3m\u001b[90m<dbl>\u001b[39m\u001b[23m 2009, 2009, 2009, 2009, 2009, 2009, 2009, 2010, 201~\n",
      "$ title              \u001b[3m\u001b[90m<chr>\u001b[39m\u001b[23m \"Ocean acidification impairs olfactory discriminati~\n",
      "$ journal            \u001b[3m\u001b[90m<chr>\u001b[39m\u001b[23m \"PNAS\", \"PNAS\", \"PNAS\", \"PNAS\", \"PNAS\", \"PNAS\", \"PN~\n",
      "$ pub_year_if        \u001b[3m\u001b[90m<chr>\u001b[39m\u001b[23m \"9.432\", \"9.432\", \"9.432\", \"9.432\", \"9.432\", \"9.432~\n",
      "$ x2017_if           \u001b[3m\u001b[90m<chr>\u001b[39m\u001b[23m \"9.504\", \"9.504\", \"9.504\", \"9.504\", \"9.504\", \"9.504~\n",
      "$ average_n          \u001b[3m\u001b[90m<dbl>\u001b[39m\u001b[23m 27, 27, 27, 27, 27, 27, 27, 15, 15, 15, 15, 15, 15,~\n",
      "$ effect_type        \u001b[3m\u001b[90m<chr>\u001b[39m\u001b[23m \"Strong\", \"Strong\", \"Strong\", \"Strong\", \"Strong\", \"~\n",
      "$ species            \u001b[3m\u001b[90m<chr>\u001b[39m\u001b[23m \"Amphiprion percula\", \"Amphiprion percula\", \"Amphip~\n",
      "$ climate_fish_base  \u001b[3m\u001b[90m<chr>\u001b[39m\u001b[23m \"Trop\", \"Trop\", \"Trop\", \"Trop\", \"Trop\", \"Trop\", \"Tr~\n",
      "$ env_cue_stimulus   \u001b[3m\u001b[90m<chr>\u001b[39m\u001b[23m \"Yes\", \"Yes\", \"Yes\", \"Yes\", \"Yes\", \"Yes\", \"Yes\", \"Y~\n",
      "$ cue_stimulus_type  \u001b[3m\u001b[90m<chr>\u001b[39m\u001b[23m \"Habitat\", \"Habitat\", \"Habitat\", \"Habitat\", \"Kin\", ~\n",
      "$ behavioural_metric \u001b[3m\u001b[90m<chr>\u001b[39m\u001b[23m \"% time in Xanthostemon cue\", \"% time in Melaleuca ~\n",
      "$ life_stage         \u001b[3m\u001b[90m<chr>\u001b[39m\u001b[23m \"Larvae\", \"Larvae\", \"Larvae\", \"Larvae\", \"Larvae\", \"~\n",
      "$ ctrl_n             \u001b[3m\u001b[90m<dbl>\u001b[39m\u001b[23m 26, 20, 20, 10, 30, 30, 30, 45, 45, 45, 45, 45, 45,~\n",
      "$ ctrl_mean          \u001b[3m\u001b[90m<dbl>\u001b[39m\u001b[23m 94.1290, 0.7830, 46.3800, 98.8260, 0.9120, 90.8760,~\n",
      "$ ctrl_sd            \u001b[3m\u001b[90m<dbl>\u001b[39m\u001b[23m 2.9931, 3.5017, 14.0023, 1.8563, 2.9960, 3.9984, 3.~\n",
      "$ oa_n               \u001b[3m\u001b[90m<dbl>\u001b[39m\u001b[23m 46, 46, 46, 16, 20, 20, 20, 45, 45, 45, 45, 45, 45,~\n",
      "$ oa_mean            \u001b[3m\u001b[90m<dbl>\u001b[39m\u001b[23m 72.7890, 83.5620, 71.4290, 88.2580, 99.8180, 99.818~\n",
      "$ oa_sd              \u001b[3m\u001b[90m<dbl>\u001b[39m\u001b[23m 13.2730, 10.6211, 13.2730, 7.0440, 0.0045, 0.0045, ~\n"
     ]
    },
    {
     "name": "stderr",
     "output_type": "stream",
     "text": [
      "Warning message in unique(meta_data$pub_year_if[is.na(as.numeric(meta_data$pub_year_if))]):\n",
      "\"NAs introduced by coercion\"\n"
     ]
    },
    {
     "data": {
      "text/html": [
       "'-'"
      ],
      "text/latex": [
       "'-'"
      ],
      "text/markdown": [
       "'-'"
      ],
      "text/plain": [
       "[1] \"-\""
      ]
     },
     "metadata": {},
     "output_type": "display_data"
    },
    {
     "name": "stderr",
     "output_type": "stream",
     "text": [
      "Warning message in unique(meta_data$x2017_if[is.na(as.numeric(meta_data$x2017_if))]):\n",
      "\"NAs introduced by coercion\"\n"
     ]
    },
    {
     "data": {
      "text/html": [
       "'-'"
      ],
      "text/latex": [
       "'-'"
      ],
      "text/markdown": [
       "'-'"
      ],
      "text/plain": [
       "[1] \"-\""
      ]
     },
     "metadata": {},
     "output_type": "display_data"
    }
   ],
   "source": [
    "library(janitor)\n",
    "# 修正列名方便选取\n",
    "meta_data <- read_csv(\"ocean_meta_data.csv\",show_col_types = FALSE) %>% janitor::clean_names()\n",
    "glimpse(meta_data)\n",
    "# 观察到部分数字型变量以chr型被读取,查看非数字变量\n",
    "unique(meta_data$pub_year_if[is.na(as.numeric(meta_data$pub_year_if))])\n",
    "unique(meta_data$x2017_if[is.na(as.numeric(meta_data$x2017_if))])"
   ]
  },
  {
   "cell_type": "code",
   "execution_count": 10,
   "id": "db0d2431",
   "metadata": {},
   "outputs": [
    {
     "name": "stderr",
     "output_type": "stream",
     "text": [
      "Your code contains a unicode char which cannot be displayed in your\n",
      "current locale and R will silently convert it to an escaped form when the\n",
      "R kernel executes this code. This can lead to subtle errors if you use\n",
      "such chars to do comparisons. For more information, please see\n",
      "https://github.com/IRkernel/repr/wiki/Problems-with-unicode-on-windows"
     ]
    },
    {
     "data": {
      "text/plain": [
       "    study             authors           year_online     year_print  \n",
       " Length:824         Length:824         Min.   :2009   Min.   :2009  \n",
       " Class :character   Class :character   1st Qu.:2012   1st Qu.:2013  \n",
       " Mode  :character   Mode  :character   Median :2015   Median :2015  \n",
       "                                       Mean   :2015   Mean   :2015  \n",
       "                                       3rd Qu.:2017   3rd Qu.:2018  \n",
       "                                       Max.   :2020   Max.   :2020  \n",
       "                                                                    \n",
       "    title             journal           pub_year_if        x2017_if     \n",
       " Length:824         Length:824         Min.   : 0.839   Min.   : 0.794  \n",
       " Class :character   Class :character   1st Qu.: 2.504   1st Qu.: 2.504  \n",
       " Mode  :character   Mode  :character   Median : 3.730   Median : 3.345  \n",
       "                                       Mean   : 5.909   Mean   : 5.867  \n",
       "                                       3rd Qu.: 8.044   3rd Qu.: 8.997  \n",
       "                                       Max.   :69.500   Max.   :41.580  \n",
       "                                       NA's   :24       NA's   :15      \n",
       "   average_n      effect_type                     species   \n",
       " Min.   :  4.00   No    :236   Pomacentrus amboinensis:114  \n",
       " 1st Qu.: 12.00   Strong:474   Amphiprion percula     : 80  \n",
       " Median : 17.00   Weak  :114   Gasterosteus aculeatus : 48  \n",
       " Mean   : 28.69                Citharichthys stigmaeus: 40  \n",
       " 3rd Qu.: 30.00                Gadus macrocephalus    : 36  \n",
       " Max.   :568.00                Pomacentrus wardi      : 35  \n",
       "                               (Other)                :471  \n",
       "    climate_fish_base env_cue_stimulus cue_stimulus_type behavioural_metric\n",
       " Boreal      : 36     No :171          Predator:180      Length:824        \n",
       " Deep        :  2     Yes:653          None    :175      Class :character  \n",
       " Not provided:  7                      Food    :105      Mode  :character  \n",
       " Polar       : 26                      Shelter : 58                        \n",
       " Subtrop     :221                      Habitat : 56                        \n",
       " Temp        : 86                      Light   : 44                        \n",
       " Trop        :446                      (Other) :206                        \n",
       "  life_stage            ctrl_n         ctrl_mean            ctrl_sd         \n",
       " Length:824         Min.   :  4.00   Min.   :   -69.78   Min.   :    0.000  \n",
       " Class :character   1st Qu.: 10.00   1st Qu.:     1.08   1st Qu.:    1.176  \n",
       " Mode  :character   Median : 18.00   Median :     9.52   Median :    5.867  \n",
       "                    Mean   : 29.14   Mean   :   435.63   Mean   :  103.754  \n",
       "                    3rd Qu.: 30.00   3rd Qu.:    43.11   3rd Qu.:   21.524  \n",
       "                    Max.   :752.00   Max.   :154936.88   Max.   :25490.446  \n",
       "                                                                            \n",
       "      oa_n           oa_mean              oa_sd         \n",
       " Min.   :  2.00   Min.   :   -59.67   Min.   :    0.00  \n",
       " 1st Qu.: 11.00   1st Qu.:     1.21   1st Qu.:    1.17  \n",
       " Median : 18.00   Median :    12.37   Median :    7.26  \n",
       " Mean   : 29.04   Mean   :   435.35   Mean   :  113.65  \n",
       " 3rd Qu.: 34.00   3rd Qu.:    43.32   3rd Qu.:   22.05  \n",
       " Max.   :755.00   Max.   :157061.25   Max.   :36812.37  \n",
       "                                                        "
      ]
     },
     "metadata": {},
     "output_type": "display_data"
    }
   ],
   "source": [
    "#通过强制类型转换将-修正为NA,将部分变量修正为因子型\n",
    "meta_data[meta_data == \"-\"] <- NA\n",
    "meta_data$cue_stimulus_type[is.na(meta_data$cue_stimulus_type)] <- \"None\"\n",
    "meta_data <- meta_data %>% mutate(pub_year_if = as.numeric(pub_year_if), x2017_if = as.numeric(x2017_if),\n",
    "                        effect_type = as.factor(effect_type), climate_fish_base = as.factor(climate_fish_base),\n",
    "                        env_cue_stimulus = as.factor(env_cue_stimulus), cue_stimulus_type = as.factor(cue_stimulus_type),\n",
    "                        species = as.factor(species))\n",
    "summary(meta_data)"
   ]
  },
  {
   "cell_type": "code",
   "execution_count": 11,
   "id": "544c7a53",
   "metadata": {},
   "outputs": [
    {
     "name": "stderr",
     "output_type": "stream",
     "text": [
      "Warning message in log(m1i/m2i):\n",
      "\"NaNs produced\"\n"
     ]
    }
   ],
   "source": [
    "meta_RR <- metafor::escalc(measure = \"ROM\", data = meta_data,m1i = oa_mean, m2i = ctrl_mean, \n",
    "      sd1i = oa_sd, sd2i = ctrl_sd,n1i = oa_n, n2i = ctrl_n,var.names = c(\"lnRR\", \"VRR\"))"
   ]
  },
  {
   "cell_type": "code",
   "execution_count": 12,
   "id": "5da8f2af",
   "metadata": {},
   "outputs": [
    {
     "name": "stderr",
     "output_type": "stream",
     "text": [
      "Your code contains a unicode char which cannot be displayed in your\n",
      "current locale and R will silently convert it to an escaped form when the\n",
      "R kernel executes this code. This can lead to subtle errors if you use\n",
      "such chars to do comparisons. For more information, please see\n",
      "https://github.com/IRkernel/repr/wiki/Problems-with-unicode-on-windows"
     ]
    },
    {
     "data": {
      "text/html": [
       "<table class=\"dataframe\">\n",
       "<caption>A escalc: 23 × 5</caption>\n",
       "<thead>\n",
       "\t<tr><th></th><th scope=col>study</th><th scope=col>behavioural_metric</th><th scope=col>ctrl_mean</th><th scope=col>oa_mean</th><th scope=col>lnRR</th></tr>\n",
       "\t<tr><th></th><th scope=col>&lt;chr&gt;</th><th scope=col>&lt;chr&gt;</th><th scope=col>&lt;dbl&gt;</th><th scope=col>&lt;dbl&gt;</th><th scope=col>&lt;dbl&gt;</th></tr>\n",
       "</thead>\n",
       "<tbody>\n",
       "\t<tr><th scope=row>89</th><td>a6 </td><td>Prop change in response, 850 ppm                          </td><td> 0.408</td><td>-0.015</td><td>NA</td></tr>\n",
       "\t<tr><th scope=row>91</th><td>a6 </td><td>Prop change in response, 850 ppm                          </td><td> 0.501</td><td>-0.092</td><td>NA</td></tr>\n",
       "\t<tr><th scope=row>93</th><td>a6 </td><td>Prop change in response, 850 ppm                          </td><td> 0.426</td><td>-0.081</td><td>NA</td></tr>\n",
       "\t<tr><th scope=row>121</th><td>a11</td><td>Change in feeding strikes, true conditioning, water, Fig 1</td><td> 3.009</td><td>-4.613</td><td>NA</td></tr>\n",
       "\t<tr><th scope=row>127</th><td>a11</td><td>Change in area use, pseudo-conditioning, water, Fig 1     </td><td> 0.179</td><td>-0.138</td><td>NA</td></tr>\n",
       "\t<tr><th scope=row>128</th><td>a11</td><td>Change in area use, pseudo-conditioning, predator, Fig 1  </td><td>-0.441</td><td> 0.262</td><td>NA</td></tr>\n",
       "\t<tr><th scope=row>129</th><td>a11</td><td>Change in area use, true conditioning, water, Fig 1       </td><td>-0.069</td><td> 0.179</td><td>NA</td></tr>\n",
       "\t<tr><th scope=row>130</th><td>a11</td><td>Change in area use, true conditioning, predator, Fig 1    </td><td>-2.687</td><td> 0.193</td><td>NA</td></tr>\n",
       "\t<tr><th scope=row>137</th><td>a11</td><td>Change in line crosses, experienced tutor, water, Fig 2   </td><td>-2.250</td><td> 1.750</td><td>NA</td></tr>\n",
       "\t<tr><th scope=row>141</th><td>a11</td><td>Change in area use, experienced tutor, water, Fig 2       </td><td> 0.195</td><td>-0.057</td><td>NA</td></tr>\n",
       "\t<tr><th scope=row>142</th><td>a11</td><td>Change in area use, experienced tutor, predator, Fig 2    </td><td>-1.995</td><td> 0.195</td><td>NA</td></tr>\n",
       "\t<tr><th scope=row>155</th><td>a11</td><td>Change in area use, water, Fig 4                          </td><td>-0.076</td><td> 0.092</td><td>NA</td></tr>\n",
       "\t<tr><th scope=row>223</th><td>a22</td><td>Mean change bite rate, empty bag, Fig2                    </td><td> 1.005</td><td>-0.503</td><td>NA</td></tr>\n",
       "\t<tr><th scope=row>228</th><td>a22</td><td>Mean change shelter use, goby, Fig2                       </td><td>-2.797</td><td> 5.594</td><td>NA</td></tr>\n",
       "\t<tr><th scope=row>229</th><td>a22</td><td>Mean change shelter use, empty bag, Fig2                  </td><td>-1.119</td><td> 1.678</td><td>NA</td></tr>\n",
       "\t<tr><th scope=row>278</th><td>a27</td><td>Prop change line crosses, Day 1, sham                     </td><td>-0.033</td><td> 0.036</td><td>NA</td></tr>\n",
       "\t<tr><th scope=row>279</th><td>a27</td><td>Prop change feeding strikes, Day 1, sham                  </td><td> 0.054</td><td>-0.051</td><td>NA</td></tr>\n",
       "\t<tr><th scope=row>282</th><td>a27</td><td>Prop change line crosses, Day 5, sham                     </td><td> 0.061</td><td>-0.075</td><td>NA</td></tr>\n",
       "\t<tr><th scope=row>338</th><td>a34</td><td>Feeding rate, Laurencia                                   </td><td>-1.765</td><td> 0.706</td><td>NA</td></tr>\n",
       "\t<tr><th scope=row>339</th><td>a34</td><td>Feeding rate, Hypnea                                      </td><td>-0.706</td><td> 1.765</td><td>NA</td></tr>\n",
       "\t<tr><th scope=row>340</th><td>a34</td><td>Feeding rate, Coelothrix irregularis                      </td><td> 0.706</td><td>-0.947</td><td>NA</td></tr>\n",
       "\t<tr><th scope=row>594</th><td>a70</td><td>Change in swim duration, sham                             </td><td> 0.464</td><td>-0.331</td><td>NA</td></tr>\n",
       "\t<tr><th scope=row>595</th><td>a70</td><td>Change in swim distance, sham                             </td><td>29.630</td><td>-4.938</td><td>NA</td></tr>\n",
       "</tbody>\n",
       "</table>\n"
      ],
      "text/latex": [
       "A escalc: 23 × 5\n",
       "\\begin{tabular}{r|lllll}\n",
       "  & study & behavioural\\_metric & ctrl\\_mean & oa\\_mean & lnRR\\\\\n",
       "  & <chr> & <chr> & <dbl> & <dbl> & <dbl>\\\\\n",
       "\\hline\n",
       "\t89 & a6  & Prop change in response, 850 ppm                           &  0.408 & -0.015 & NA\\\\\n",
       "\t91 & a6  & Prop change in response, 850 ppm                           &  0.501 & -0.092 & NA\\\\\n",
       "\t93 & a6  & Prop change in response, 850 ppm                           &  0.426 & -0.081 & NA\\\\\n",
       "\t121 & a11 & Change in feeding strikes, true conditioning, water, Fig 1 &  3.009 & -4.613 & NA\\\\\n",
       "\t127 & a11 & Change in area use, pseudo-conditioning, water, Fig 1      &  0.179 & -0.138 & NA\\\\\n",
       "\t128 & a11 & Change in area use, pseudo-conditioning, predator, Fig 1   & -0.441 &  0.262 & NA\\\\\n",
       "\t129 & a11 & Change in area use, true conditioning, water, Fig 1        & -0.069 &  0.179 & NA\\\\\n",
       "\t130 & a11 & Change in area use, true conditioning, predator, Fig 1     & -2.687 &  0.193 & NA\\\\\n",
       "\t137 & a11 & Change in line crosses, experienced tutor, water, Fig 2    & -2.250 &  1.750 & NA\\\\\n",
       "\t141 & a11 & Change in area use, experienced tutor, water, Fig 2        &  0.195 & -0.057 & NA\\\\\n",
       "\t142 & a11 & Change in area use, experienced tutor, predator, Fig 2     & -1.995 &  0.195 & NA\\\\\n",
       "\t155 & a11 & Change in area use, water, Fig 4                           & -0.076 &  0.092 & NA\\\\\n",
       "\t223 & a22 & Mean change bite rate, empty bag, Fig2                     &  1.005 & -0.503 & NA\\\\\n",
       "\t228 & a22 & Mean change shelter use, goby, Fig2                        & -2.797 &  5.594 & NA\\\\\n",
       "\t229 & a22 & Mean change shelter use, empty bag, Fig2                   & -1.119 &  1.678 & NA\\\\\n",
       "\t278 & a27 & Prop change line crosses, Day 1, sham                      & -0.033 &  0.036 & NA\\\\\n",
       "\t279 & a27 & Prop change feeding strikes, Day 1, sham                   &  0.054 & -0.051 & NA\\\\\n",
       "\t282 & a27 & Prop change line crosses, Day 5, sham                      &  0.061 & -0.075 & NA\\\\\n",
       "\t338 & a34 & Feeding rate, Laurencia                                    & -1.765 &  0.706 & NA\\\\\n",
       "\t339 & a34 & Feeding rate, Hypnea                                       & -0.706 &  1.765 & NA\\\\\n",
       "\t340 & a34 & Feeding rate, Coelothrix irregularis                       &  0.706 & -0.947 & NA\\\\\n",
       "\t594 & a70 & Change in swim duration, sham                              &  0.464 & -0.331 & NA\\\\\n",
       "\t595 & a70 & Change in swim distance, sham                              & 29.630 & -4.938 & NA\\\\\n",
       "\\end{tabular}\n"
      ],
      "text/markdown": [
       "\n",
       "A escalc: 23 × 5\n",
       "\n",
       "| <!--/--> | study &lt;chr&gt; | behavioural_metric &lt;chr&gt; | ctrl_mean &lt;dbl&gt; | oa_mean &lt;dbl&gt; | lnRR &lt;dbl&gt; |\n",
       "|---|---|---|---|---|---|\n",
       "| 89 | a6  | Prop change in response, 850 ppm                           |  0.408 | -0.015 | NA |\n",
       "| 91 | a6  | Prop change in response, 850 ppm                           |  0.501 | -0.092 | NA |\n",
       "| 93 | a6  | Prop change in response, 850 ppm                           |  0.426 | -0.081 | NA |\n",
       "| 121 | a11 | Change in feeding strikes, true conditioning, water, Fig 1 |  3.009 | -4.613 | NA |\n",
       "| 127 | a11 | Change in area use, pseudo-conditioning, water, Fig 1      |  0.179 | -0.138 | NA |\n",
       "| 128 | a11 | Change in area use, pseudo-conditioning, predator, Fig 1   | -0.441 |  0.262 | NA |\n",
       "| 129 | a11 | Change in area use, true conditioning, water, Fig 1        | -0.069 |  0.179 | NA |\n",
       "| 130 | a11 | Change in area use, true conditioning, predator, Fig 1     | -2.687 |  0.193 | NA |\n",
       "| 137 | a11 | Change in line crosses, experienced tutor, water, Fig 2    | -2.250 |  1.750 | NA |\n",
       "| 141 | a11 | Change in area use, experienced tutor, water, Fig 2        |  0.195 | -0.057 | NA |\n",
       "| 142 | a11 | Change in area use, experienced tutor, predator, Fig 2     | -1.995 |  0.195 | NA |\n",
       "| 155 | a11 | Change in area use, water, Fig 4                           | -0.076 |  0.092 | NA |\n",
       "| 223 | a22 | Mean change bite rate, empty bag, Fig2                     |  1.005 | -0.503 | NA |\n",
       "| 228 | a22 | Mean change shelter use, goby, Fig2                        | -2.797 |  5.594 | NA |\n",
       "| 229 | a22 | Mean change shelter use, empty bag, Fig2                   | -1.119 |  1.678 | NA |\n",
       "| 278 | a27 | Prop change line crosses, Day 1, sham                      | -0.033 |  0.036 | NA |\n",
       "| 279 | a27 | Prop change feeding strikes, Day 1, sham                   |  0.054 | -0.051 | NA |\n",
       "| 282 | a27 | Prop change line crosses, Day 5, sham                      |  0.061 | -0.075 | NA |\n",
       "| 338 | a34 | Feeding rate, Laurencia                                    | -1.765 |  0.706 | NA |\n",
       "| 339 | a34 | Feeding rate, Hypnea                                       | -0.706 |  1.765 | NA |\n",
       "| 340 | a34 | Feeding rate, Coelothrix irregularis                       |  0.706 | -0.947 | NA |\n",
       "| 594 | a70 | Change in swim duration, sham                              |  0.464 | -0.331 | NA |\n",
       "| 595 | a70 | Change in swim distance, sham                              | 29.630 | -4.938 | NA |\n",
       "\n"
      ],
      "text/plain": [
       "    study behavioural_metric                                         ctrl_mean\n",
       "89  a6    Prop change in response, 850 ppm                            0.408   \n",
       "91  a6    Prop change in response, 850 ppm                            0.501   \n",
       "93  a6    Prop change in response, 850 ppm                            0.426   \n",
       "121 a11   Change in feeding strikes, true conditioning, water, Fig 1  3.009   \n",
       "127 a11   Change in area use, pseudo-conditioning, water, Fig 1       0.179   \n",
       "128 a11   Change in area use, pseudo-conditioning, predator, Fig 1   -0.441   \n",
       "129 a11   Change in area use, true conditioning, water, Fig 1        -0.069   \n",
       "130 a11   Change in area use, true conditioning, predator, Fig 1     -2.687   \n",
       "137 a11   Change in line crosses, experienced tutor, water, Fig 2    -2.250   \n",
       "141 a11   Change in area use, experienced tutor, water, Fig 2         0.195   \n",
       "142 a11   Change in area use, experienced tutor, predator, Fig 2     -1.995   \n",
       "155 a11   Change in area use, water, Fig 4                           -0.076   \n",
       "223 a22   Mean change bite rate, empty bag, Fig2                      1.005   \n",
       "228 a22   Mean change shelter use, goby, Fig2                        -2.797   \n",
       "229 a22   Mean change shelter use, empty bag, Fig2                   -1.119   \n",
       "278 a27   Prop change line crosses, Day 1, sham                      -0.033   \n",
       "279 a27   Prop change feeding strikes, Day 1, sham                    0.054   \n",
       "282 a27   Prop change line crosses, Day 5, sham                       0.061   \n",
       "338 a34   Feeding rate, Laurencia                                    -1.765   \n",
       "339 a34   Feeding rate, Hypnea                                       -0.706   \n",
       "340 a34   Feeding rate, Coelothrix irregularis                        0.706   \n",
       "594 a70   Change in swim duration, sham                               0.464   \n",
       "595 a70   Change in swim distance, sham                              29.630   \n",
       "    oa_mean lnRR\n",
       "89  -0.015  NA  \n",
       "91  -0.092  NA  \n",
       "93  -0.081  NA  \n",
       "121 -4.613  NA  \n",
       "127 -0.138  NA  \n",
       "128  0.262  NA  \n",
       "129  0.179  NA  \n",
       "130  0.193  NA  \n",
       "137  1.750  NA  \n",
       "141 -0.057  NA  \n",
       "142  0.195  NA  \n",
       "155  0.092  NA  \n",
       "223 -0.503  NA  \n",
       "228  5.594  NA  \n",
       "229  1.678  NA  \n",
       "278  0.036  NA  \n",
       "279 -0.051  NA  \n",
       "282 -0.075  NA  \n",
       "338  0.706  NA  \n",
       "339  1.765  NA  \n",
       "340 -0.947  NA  \n",
       "594 -0.331  NA  \n",
       "595 -4.938  NA  "
      ]
     },
     "metadata": {},
     "output_type": "display_data"
    }
   ],
   "source": [
    "# 发现大多数是change\n",
    "meta_RR[!complete.cases(meta_RR$lnRR),] %>% select(study,behavioural_metric, ctrl_mean,oa_mean,lnRR)"
   ]
  },
  {
   "cell_type": "code",
   "execution_count": 13,
   "id": "210abe25",
   "metadata": {},
   "outputs": [
    {
     "name": "stdout",
     "output_type": "stream",
     "text": [
      "[1] \"Num of rows matching keywords: 104 ,Num of experiments: 109\"\n"
     ]
    }
   ],
   "source": [
    "doubtful_study <- unique(meta_RR[!complete.cases(meta_RR$lnRR),]$study)\n",
    "num_trim <- meta_data %>% filter(study %in% doubtful_study) %>% \n",
    "         filter(grepl(\"change|Change|rate|Rate\",behavioural_metric)) %>% nrow()\n",
    "num_in_study <- meta_data %>% filter(study %in% doubtful_study) %>% nrow()\n",
    "print(paste(\"Num of rows matching keywords:\",num_trim,\",Num of experiments:\",num_in_study))"
   ]
  },
  {
   "cell_type": "code",
   "execution_count": 14,
   "id": "908fd19f",
   "metadata": {},
   "outputs": [],
   "source": [
    "meta_RR <- meta_RR %>% filter(!(study %in% doubtful_study)) %>% filter(!grepl(\"change|Change\",behavioural_metric)) %>% \n",
    "               filter(!is.na(lnRR)) %>% mutate(residual = 1:n())"
   ]
  },
  {
   "cell_type": "markdown",
   "id": "a144343a",
   "metadata": {},
   "source": [
    "### 总体元分析"
   ]
  },
  {
   "cell_type": "code",
   "execution_count": 15,
   "id": "f857a5e1",
   "metadata": {},
   "outputs": [
    {
     "name": "stderr",
     "output_type": "stream",
     "text": [
      "Warning message:\n",
      "\"Ratio of largest to smallest sampling variance extremely large. May not be able to obtain stable results.\"\n"
     ]
    }
   ],
   "source": [
    "# Multi-level meta-analytic model\n",
    "MLMA <- metafor::rma.mv(lnRR ~ 1, V = VRR, method = \"REML\", \n",
    "            random = list(~1 | cue_stimulus_type/study,~1|species/life_stage,\n",
    "                          ~1 | residual), dfs = \"contain\", test = \"t\", data = meta_RR)"
   ]
  },
  {
   "cell_type": "code",
   "execution_count": 16,
   "id": "6ad0210d",
   "metadata": {},
   "outputs": [
    {
     "data": {
      "text/plain": [
       "\n",
       "Multivariate Meta-Analysis Model (k = 706; method: REML)\n",
       "\n",
       "Variance Components:\n",
       "\n",
       "            estim    sqrt  nlvls  fixed                   factor \n",
       "sigma^2.1  0.2458  0.4958     19     no        cue_stimulus_type \n",
       "sigma^2.2  0.7331  0.8562    127     no  cue_stimulus_type/study \n",
       "sigma^2.3  0.0462  0.2149     62     no                  species \n",
       "sigma^2.4  0.0579  0.2405     79     no       species/life_stage \n",
       "sigma^2.5  3.6286  1.9049    706     no                 residual \n",
       "\n",
       "Test for Heterogeneity:\n",
       "Q(df = 705) = 736086318.5800, p-val < .0001\n",
       "\n",
       "Model Results:\n",
       "\n",
       "estimate      se    tval  df    pval    ci.lb   ci.ub    \n",
       "  0.1137  0.1933  0.5878  18  0.5639  -0.2925  0.5198    \n",
       "\n",
       "---\n",
       "Signif. codes:  0 '***' 0.001 '**' 0.01 '*' 0.05 '.' 0.1 ' ' 1\n"
      ]
     },
     "metadata": {},
     "output_type": "display_data"
    }
   ],
   "source": [
    "MLMA"
   ]
  },
  {
   "cell_type": "code",
   "execution_count": 17,
   "id": "9dc4fd02",
   "metadata": {},
   "outputs": [
    {
     "data": {
      "text/plain": [
       "\n",
       "   pred  ci.lb  ci.ub  pi.lb    pi.ub \n",
       " 1.1204 0.7464 1.6818 0.0115 109.0718 \n"
      ]
     },
     "metadata": {},
     "output_type": "display_data"
    }
   ],
   "source": [
    "predict(MLMA, transf = exp)"
   ]
  },
  {
   "cell_type": "markdown",
   "id": "c44593fd",
   "metadata": {},
   "source": [
    "因为并未将lnrr和其他参数拟合，而是仅当做随机变量，因此在尽可能嵌套随机变量后结果仍不显著，但。。。"
   ]
  },
  {
   "cell_type": "code",
   "execution_count": 18,
   "id": "c0fe277a",
   "metadata": {
    "lines_to_next_cell": 0
   },
   "outputs": [
    {
     "ename": "ERROR",
     "evalue": "Error in library(orchaRd): there is no package called 'orchaRd'\n",
     "output_type": "error",
     "traceback": [
      "Error in library(orchaRd): there is no package called 'orchaRd'\nTraceback:\n",
      "1. library(orchaRd)"
     ]
    }
   ],
   "source": [
    "## Calculate I2\n",
    "library(orchaRd)\n",
    "i2_vals <- orchaRd::i2_ml(MLMA)\n",
    "i2 <- tibble(type = firstup(gsub(\"I2_\", \"\", names(i2_vals))), I2 = i2_vals)\n",
    "flextable(i2) %>%\n",
    "    align(part = \"header\", align = \"center\") %>%\n",
    "    compose(part = \"header\", j = 1, value = as_paragraph(as_b(\"Type\"))) %>%\n",
    "    compose(part = \"header\", j = 2, value = as_paragraph(as_b(\"I\"), as_b(as_sup(\"2\")),\n",
    "        as_b(\"(%)\")))"
   ]
  },
  {
   "cell_type": "markdown",
   "id": "0dd4f673",
   "metadata": {},
   "source": [
    "\n",
    "\n"
   ]
  },
  {
   "cell_type": "code",
   "execution_count": null,
   "id": "38cd3d6a",
   "metadata": {
    "lines_to_next_cell": 2
   },
   "outputs": [],
   "source": [
    "MLMR2 <- metafor::rma.mv(lnRR ~ climate_fish_base - 1, V = VRR, method = \"REML\", \n",
    "                         random = list(~1 | cue_stimulus_type/study, ~1 | residual),\n",
    "                         dfs = \"contain\", test = \"t\", data = meta_RR)\n",
    "MLMR2"
   ]
  },
  {
   "cell_type": "code",
   "execution_count": null,
   "id": "0418f3c2",
   "metadata": {
    "lines_to_next_cell": 0
   },
   "outputs": [],
   "source": [
    "orchaRd::orchard_plot(MLMR2, mod = \"climate_fish_base\", group = \"study\", data = meta_RR,\n",
    "    xlab = \"log(Response ratio) (lnRR)\", angle = 45)"
   ]
  },
  {
   "cell_type": "markdown",
   "id": "a95a91a7",
   "metadata": {},
   "source": [
    "\n",
    "\n"
   ]
  },
  {
   "cell_type": "code",
   "execution_count": null,
   "id": "a10eb8d6",
   "metadata": {},
   "outputs": [],
   "source": [
    "# Multi-level meta-analytic model\n",
    "MLMA2 <- metafor::rma.mv(lnRR ~ 1, V = VRR, method = \"REML\", \n",
    "            random = list(~1 | cue_stimulus_type/study,~1|species/life_stage,\n",
    "                          ~1 | residual), dfs = \"contain\", test = \"t\", data = meta_RR)"
   ]
  },
  {
   "cell_type": "code",
   "execution_count": null,
   "id": "70fb1ebf",
   "metadata": {},
   "outputs": [],
   "source": [
    "MLMA2\n",
    "orchaRd::i2_ml(MLMA2)"
   ]
  },
  {
   "cell_type": "code",
   "execution_count": null,
   "id": "545ec7c7",
   "metadata": {
    "lines_to_next_cell": 2
   },
   "outputs": [],
   "source": [
    "metafor::funnel(x = meta_RR$lnRR, vi = meta_RR$VRR, yaxis = \"seinv\",\n",
    "    digits = 2, level = c(0.1, 0.05, 0.01), shade = c(\"white\", \"gray55\", \"gray 75\"),\n",
    "    las = 1, xlab = \"Correlation Coefficient (r)\", atransf = exp, legend = TRUE, pch =20)"
   ]
  },
  {
   "cell_type": "code",
   "execution_count": null,
   "id": "1206f5ca",
   "metadata": {},
   "outputs": [],
   "source": [
    "metafor::funnel(x = meta_RR$lnRR, vi = meta_RR$VRR, yaxis = \"seinv\",\n",
    "    digits = 2, level = c(0.1, 0.05, 0.01), shade = c(\"white\", \"gray55\", \"gray 75\"),ylim = c(1,40),xlim = c(log(0.1),log(10)),\n",
    "    las = 1, xlab = \"Correlation Coefficient (r)\", atransf = exp, legend = TRUE, pch =20)"
   ]
  },
  {
   "cell_type": "code",
   "execution_count": null,
   "id": "89f2968a",
   "metadata": {
    "lines_to_next_cell": 0
   },
   "outputs": [],
   "source": [
    "meta_RR2<- meta_RR[meta_RR$VRR<10000,]\n",
    "ggplot(meta_RR2, aes(y = lnRR, x = VRR)) + geom_point() + geom_smooth(method = lm) +\n",
    "    labs(y = \"Fisher's Z-transformed Correlation Coefficient (Zr)\", x = \"Sampling Variance of Zr\") +\n",
    "    theme_classic()"
   ]
  },
  {
   "cell_type": "code",
   "execution_count": null,
   "id": "5c1da263",
   "metadata": {
    "lines_to_next_cell": 0
   },
   "outputs": [],
   "source": [
    "meta_RR[meta_RR$VRR != max(meta_RR$VRR),]"
   ]
  },
  {
   "cell_type": "markdown",
   "id": "6d7cd99d",
   "metadata": {},
   "source": [
    "\n",
    "\n"
   ]
  }
 ],
 "metadata": {
  "jupytext": {
   "formats": "ipynb,Rmd"
  },
  "kernelspec": {
   "display_name": "R",
   "language": "R",
   "name": "ir"
  },
  "language_info": {
   "codemirror_mode": "r",
   "file_extension": ".r",
   "mimetype": "text/x-r-source",
   "name": "R",
   "pygments_lexer": "r",
   "version": "4.1.3"
  }
 },
 "nbformat": 4,
 "nbformat_minor": 5
}
